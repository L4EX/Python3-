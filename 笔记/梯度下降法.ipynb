{
 "cells": [
  {
   "cell_type": "markdown",
   "metadata": {},
   "source": [
    "梯度下降法  \n",
    "不是一个机器学习算法  \n",
    "是一种基于搜索的最优化方法  \n",
    "作用：最小化一个损失函数  \n",
    "梯度上升法：最大化一个效用函数"
   ]
  },
  {
   "cell_type": "markdown",
   "metadata": {},
   "source": [
    "在一个 参数theta——损失函数J  \\ \\ \\ 构成的二维曲线中   \n",
    "$\\dfrac {dJ}{d\\theta }$ 的正负号，表示在参数theta轴上，J增大的方向  \n",
    "其值表示增长的快慢  \n",
    "那么$-\\dfrac {dJ}{d\\theta }$就表示J减少的方向  "
   ]
  },
  {
   "cell_type": "markdown",
   "metadata": {},
   "source": [
    "$\\eta$成为学习率  \n",
    "$\\eta$的取值会影响获得最优解的速度  \n",
    "$\\eta$取值不合适，甚至不能得到最优解，如果J越来越大，说明有可能$\\eta$取的大了  \n",
    "$\\eta$是梯度下降的一个超参数"
   ]
  },
  {
   "cell_type": "markdown",
   "metadata": {},
   "source": [
    "并不是所有的函数的极值点都是唯一的  \n",
    "解决方案：（找全局最优解）  \n",
    "多次运行，随机化初始点  \n",
    "梯度下降法的初始点也是一个超参数  \n",
    "  \n",
    "线性回归法的损失函数具有唯一的最优解"
   ]
  },
  {
   "cell_type": "markdown",
   "metadata": {},
   "source": [
    "## 梯度下降法模拟"
   ]
  },
  {
   "cell_type": "code",
   "execution_count": 1,
   "metadata": {},
   "outputs": [],
   "source": [
    "import numpy as np\n",
    "import matplotlib.pyplot as plt\n",
    "# 只有一个参数的情况"
   ]
  },
  {
   "cell_type": "code",
   "execution_count": 2,
   "metadata": {},
   "outputs": [
    {
     "data": {
      "text/plain": [
       "array([-1.  , -0.95, -0.9 , -0.85, -0.8 , -0.75, -0.7 , -0.65, -0.6 ,\n",
       "       -0.55, -0.5 , -0.45, -0.4 , -0.35, -0.3 , -0.25, -0.2 , -0.15,\n",
       "       -0.1 , -0.05,  0.  ,  0.05,  0.1 ,  0.15,  0.2 ,  0.25,  0.3 ,\n",
       "        0.35,  0.4 ,  0.45,  0.5 ,  0.55,  0.6 ,  0.65,  0.7 ,  0.75,\n",
       "        0.8 ,  0.85,  0.9 ,  0.95,  1.  ,  1.05,  1.1 ,  1.15,  1.2 ,\n",
       "        1.25,  1.3 ,  1.35,  1.4 ,  1.45,  1.5 ,  1.55,  1.6 ,  1.65,\n",
       "        1.7 ,  1.75,  1.8 ,  1.85,  1.9 ,  1.95,  2.  ,  2.05,  2.1 ,\n",
       "        2.15,  2.2 ,  2.25,  2.3 ,  2.35,  2.4 ,  2.45,  2.5 ,  2.55,\n",
       "        2.6 ,  2.65,  2.7 ,  2.75,  2.8 ,  2.85,  2.9 ,  2.95,  3.  ,\n",
       "        3.05,  3.1 ,  3.15,  3.2 ,  3.25,  3.3 ,  3.35,  3.4 ,  3.45,\n",
       "        3.5 ,  3.55,  3.6 ,  3.65,  3.7 ,  3.75,  3.8 ,  3.85,  3.9 ,\n",
       "        3.95,  4.  ,  4.05,  4.1 ,  4.15,  4.2 ,  4.25,  4.3 ,  4.35,\n",
       "        4.4 ,  4.45,  4.5 ,  4.55,  4.6 ,  4.65,  4.7 ,  4.75,  4.8 ,\n",
       "        4.85,  4.9 ,  4.95,  5.  ,  5.05,  5.1 ,  5.15,  5.2 ,  5.25,\n",
       "        5.3 ,  5.35,  5.4 ,  5.45,  5.5 ,  5.55,  5.6 ,  5.65,  5.7 ,\n",
       "        5.75,  5.8 ,  5.85,  5.9 ,  5.95,  6.  ])"
      ]
     },
     "execution_count": 2,
     "metadata": {},
     "output_type": "execute_result"
    }
   ],
   "source": [
    "#用plot（）画曲线，为了平滑，要取足够多的点，这里等间距取141个点\n",
    "plot_x = np.linspace(-1, 6, 141)\n",
    "# 先去点的的x坐标，然后得到其y坐标，最后绘制出来\n",
    "plot_y = (plot_x - 2.5) ** 2 - 1\n",
    "plot_x"
   ]
  },
  {
   "cell_type": "code",
   "execution_count": 3,
   "metadata": {},
   "outputs": [
    {
     "data": {
      "text/plain": [
       "[<matplotlib.lines.Line2D at 0x11152f250>]"
      ]
     },
     "execution_count": 3,
     "metadata": {},
     "output_type": "execute_result"
    },
    {
     "data": {
      "image/png": "[encoded data removed]",
      "text/plain": [
       "<Figure size 432x288 with 1 Axes>"
      ]
     },
     "metadata": {
      "needs_background": "light"
     },
     "output_type": "display_data"
    }
   ],
   "source": [
    "plt.plot(plot_x, plot_y)"
   ]
  },
  {
   "cell_type": "code",
   "execution_count": 4,
   "metadata": {},
   "outputs": [],
   "source": [
    "def dJ(theta):\n",
    "    # 对上面的函数求导，函数是固定的\n",
    "    return 2 * (theta - 2.5)"
   ]
  },
  {
   "cell_type": "code",
   "execution_count": 5,
   "metadata": {},
   "outputs": [],
   "source": [
    "def J(theta):\n",
    "    return (theta - 2.5) ** 2 - 1 "
   ]
  },
  {
   "cell_type": "code",
   "execution_count": 6,
   "metadata": {},
   "outputs": [
    {
     "name": "stdout",
     "output_type": "stream",
     "text": [
      "-9.485686902621637e-09\n",
      "2.4999999962057253\n",
      "-1.0\n"
     ]
    }
   ],
   "source": [
    "eta = 0.1\n",
    "epsilon = 1e-8\n",
    "#theta设置一个初始值，为0\n",
    "theta = 0.0\n",
    "while True:\n",
    "    gradient = dJ(theta)\n",
    "    last_theta = theta\n",
    "    theta = theta - eta * gradient\n",
    "    # 理论上导数为0的时候，就找到了极值点，但是实际使用中有可能一直找不到整整为0的点，而只能达到很接近0的一个范围\n",
    "    # 对浮点数进行 ==0 是很危险的，计算机处理浮点数是有误差的，可能永远都达不到想要的精度\n",
    "    \n",
    "    # 两种思路解决，一种是前后的函数值差小于一个极小值，一种是梯度小于一个极小值，其实意义一样\n",
    "    #if(abs(J(theta) -J(last_theta) ) < epsilon):    \n",
    "    if(abs(gradient) < epsilon):\n",
    "        print(gradient)\n",
    "        break\n",
    "\n",
    "print(theta)\n",
    "print(J(theta))"
   ]
  },
  {
   "cell_type": "code",
   "execution_count": 7,
   "metadata": {},
   "outputs": [
    {
     "name": "stdout",
     "output_type": "stream",
     "text": [
      "-0.00027222589353748106\n"
     ]
    },
    {
     "data": {
      "image/png": "[encoded data removed]",
      "text/plain": [
       "<Figure size 432x288 with 1 Axes>"
      ]
     },
     "metadata": {
      "needs_background": "light"
     },
     "output_type": "display_data"
    }
   ],
   "source": [
    "# 初始值theta为0\n",
    "theta = 0.0\n",
    "theta_history  = [theta]\n",
    "while True:\n",
    "    grandient = dJ(theta)\n",
    "    last_theta = theta\n",
    "    theta = theta - eta * grandient\n",
    "    # 理论上导数为0的时候，就找到了极值点，但是实际使用中有可能一直找不到整整为0的点，而只能达到很接近0的一个范围\n",
    "    # 对浮点数进行 ==0 是很危险的，计算机处理浮点数是有误差的，可能永远都达不到想要的精度\n",
    "    \n",
    "    \n",
    "    theta_history.append(theta)\n",
    "    # 两种思路解决，一种是前后的函数值差小于一个极小值，一种是梯度小于一个极小值，其实意义一样\n",
    "    if(abs(J(theta) -J(last_theta) ) < epsilon):  # 找了45次  break时，梯度为-0.00027\n",
    "    #if(abs(grandient) < epsilon): # 找了91次，break时，梯度为10的-9次方级\n",
    "    #if (abs(grandient) < epsilon) and (abs(J(theta) -J(last_theta) ) < epsilon):\n",
    "        print(grandient)\n",
    "        break\n",
    "        \n",
    "plt.plot(plot_x, plot_y)\n",
    "# plt.plot(theta_history, J(theta_history), color = 'r', markers = '+')\n",
    "# 这里必须将theta_history转成array类型，是因为J()的返回值涉及到减法，而要想将数组内的元素全都执行一个\n",
    "# 数学运算，list是不支持的，而array是支持的。\n",
    "plt.plot(np.array(theta_history), J(np.array(theta_history)), color = 'r', marker = '+')\n",
    "\n",
    "plt.show()"
   ]
  },
  {
   "cell_type": "code",
   "execution_count": 8,
   "metadata": {},
   "outputs": [
    {
     "data": {
      "text/plain": [
       "46"
      ]
     },
     "execution_count": 8,
     "metadata": {},
     "output_type": "execute_result"
    }
   ],
   "source": [
    "len(theta_history)"
   ]
  },
  {
   "cell_type": "code",
   "execution_count": 9,
   "metadata": {},
   "outputs": [],
   "source": [
    "def gradient_descent(initial_theta, eta, epslion = 1e-8):\n",
    "    theta = initial_theta\n",
    "    theta_history.append(initial_theta)\n",
    "    \n",
    "    while True:\n",
    "        gradient = dJ(theta)\n",
    "        last_theta = theta\n",
    "        theta = theta - eta * gradient\n",
    "        # 理论上导数为0的时候，就找到了极值点，但是实际使用中有可能一直找不到整整为0的点，而只能达到很接近0的一个范围\n",
    "        # 对浮点数进行 ==0 是很危险的，计算机处理浮点数是有误差的，可能永远都达不到想要的精度\n",
    "    \n",
    "    \n",
    "        theta_history.append(theta)\n",
    "        # 两种思路解决，一种是前后的函数值差小于一个极小值，一种是梯度小于一个极小值，其实意义一样\n",
    "        if(abs(J(theta) -J(last_theta) ) < epsilon):  # 找了45次  \n",
    "        #if(abs(grandient) < epsilon): # 找了91次，为什么会不一样呢？\n",
    "        #if (abs(grandient) < epsilon) and (abs(J(theta) -J(last_theta) ) < epsilon):\n",
    "            break\n",
    "    \n",
    "def plot_theta_histroy():\n",
    "    plt.plot(plot_x, plot_y)\n",
    "    # plt.plot(theta_history, J(theta_history), color = 'r', markers = '+')\n",
    "    # 这里必须将theta_history转成array类型，是因为J()的返回值涉及到减法，而要想将数组内的元素全都执行一个\n",
    "    # 数学运算，list是不支持的，而array是支持的。\n",
    "    plt.plot(np.array(theta_history), J(np.array(theta_history)), color = 'r', marker = '+')\n",
    "\n",
    "    plt.show()"
   ]
  },
  {
   "cell_type": "code",
   "execution_count": 16,
   "metadata": {},
   "outputs": [],
   "source": [
    "# eta的设置，只要能让J()不断降低就行，不一定theta非要一直在极小值点的某一侧。\n",
    "eta = 0.8\n",
    "theta_history =[]\n",
    "gradient_descent(0, eta)"
   ]
  },
  {
   "cell_type": "code",
   "execution_count": 17,
   "metadata": {},
   "outputs": [
    {
     "data": {
      "image/png": "[encoded data removed]",
      "text/plain": [
       "<Figure size 432x288 with 1 Axes>"
      ]
     },
     "metadata": {
      "needs_background": "light"
     },
     "output_type": "display_data"
    }
   ],
   "source": [
    "plot_theta_histroy()"
   ]
  },
  {
   "cell_type": "code",
   "execution_count": 15,
   "metadata": {},
   "outputs": [
    {
     "data": {
      "text/plain": [
       "3682"
      ]
     },
     "execution_count": 15,
     "metadata": {},
     "output_type": "execute_result"
    }
   ],
   "source": [
    "len(theta_history)"
   ]
  },
  {
   "cell_type": "markdown",
   "metadata": {},
   "source": [
    "如果学习率大了，在迭代的时候，梯度会越来越大，导致theta会越来越偏离极小值点，形成死循环。为了解决这个问题，可以设置一个最大迭代次数"
   ]
  },
  {
   "cell_type": "code",
   "execution_count": 18,
   "metadata": {},
   "outputs": [],
   "source": [
    "#  加入了迭代次数之后的改进\n",
    "def gradient_descent(initial_theta, eta, n_iters = 1e4, epslion = 1e-8):\n",
    "    theta = initial_theta\n",
    "    theta_history.append(initial_theta)\n",
    "    i_iter = 0\n",
    "         \n",
    "    while i_iter < n_iters :\n",
    "        gradient = dJ(theta)\n",
    "        last_theta = theta\n",
    "        theta = theta - eta * gradient\n",
    "        # 理论上导数为0的时候，就找到了极值点，但是实际使用中有可能一直找不到整整为0的点，而只能达到很接近0的一个范围\n",
    "        # 对浮点数进行 ==0 是很危险的，计算机处理浮点数是有误差的，可能永远都达不到想要的精度\n",
    "    \n",
    "    \n",
    "        theta_history.append(theta)\n",
    "        # 两种思路解决，一种是前后的函数值差小于一个极小值，一种是梯度小于一个极小值，其实意义一样\n",
    "        if(abs(J(theta) -J(last_theta) ) < epsilon):  # 找了45次  \n",
    "        #if(abs(grandient) < epsilon): # 找了91次，为什么会不一样呢？\n",
    "        #if (abs(grandient) < epsilon) and (abs(J(theta) -J(last_theta) ) < epsilon):\n",
    "            break        \n",
    "        \n",
    "        i_iter += 1\n",
    "    return"
   ]
  },
  {
   "cell_type": "code",
   "execution_count": 21,
   "metadata": {},
   "outputs": [
    {
     "ename": "OverflowError",
     "evalue": "(34, 'Result too large')",
     "output_type": "error",
     "traceback": [
      "\u001b[0;31m---------------------------------------------------------------------------\u001b[0m",
      "\u001b[0;31mOverflowError\u001b[0m                             Traceback (most recent call last)",
      "\u001b[0;32m<ipython-input-21-f5cd4ef145f5>\u001b[0m in \u001b[0;36m<module>\u001b[0;34m\u001b[0m\n\u001b[1;32m      1\u001b[0m \u001b[0meta\u001b[0m \u001b[0;34m=\u001b[0m \u001b[0;36m1.1\u001b[0m\u001b[0;34m\u001b[0m\u001b[0;34m\u001b[0m\u001b[0m\n\u001b[1;32m      2\u001b[0m \u001b[0mtheta_history\u001b[0m \u001b[0;34m=\u001b[0m\u001b[0;34m[\u001b[0m\u001b[0;34m]\u001b[0m\u001b[0;34m\u001b[0m\u001b[0;34m\u001b[0m\u001b[0m\n\u001b[0;32m----> 3\u001b[0;31m \u001b[0mgradient_descent\u001b[0m\u001b[0;34m(\u001b[0m\u001b[0;36m0\u001b[0m\u001b[0;34m,\u001b[0m \u001b[0meta\u001b[0m\u001b[0;34m)\u001b[0m\u001b[0;34m\u001b[0m\u001b[0;34m\u001b[0m\u001b[0m\n\u001b[0m",
      "\u001b[0;32m<ipython-input-18-825321566c86>\u001b[0m in \u001b[0;36mgradient_descent\u001b[0;34m(initial_theta, eta, n_iters, epslion)\u001b[0m\n\u001b[1;32m     15\u001b[0m         \u001b[0mtheta_history\u001b[0m\u001b[0;34m.\u001b[0m\u001b[0mappend\u001b[0m\u001b[0;34m(\u001b[0m\u001b[0mtheta\u001b[0m\u001b[0;34m)\u001b[0m\u001b[0;34m\u001b[0m\u001b[0;34m\u001b[0m\u001b[0m\n\u001b[1;32m     16\u001b[0m         \u001b[0;31m# 两种思路解决，一种是前后的函数值差小于一个极小值，一种是梯度小于一个极小值，其实意义一样\u001b[0m\u001b[0;34m\u001b[0m\u001b[0;34m\u001b[0m\u001b[0;34m\u001b[0m\u001b[0m\n\u001b[0;32m---> 17\u001b[0;31m         \u001b[0;32mif\u001b[0m\u001b[0;34m(\u001b[0m\u001b[0mabs\u001b[0m\u001b[0;34m(\u001b[0m\u001b[0mJ\u001b[0m\u001b[0;34m(\u001b[0m\u001b[0mtheta\u001b[0m\u001b[0;34m)\u001b[0m \u001b[0;34m-\u001b[0m\u001b[0mJ\u001b[0m\u001b[0;34m(\u001b[0m\u001b[0mlast_theta\u001b[0m\u001b[0;34m)\u001b[0m \u001b[0;34m)\u001b[0m \u001b[0;34m<\u001b[0m \u001b[0mepsilon\u001b[0m\u001b[0;34m)\u001b[0m\u001b[0;34m:\u001b[0m  \u001b[0;31m# 找了45次\u001b[0m\u001b[0;34m\u001b[0m\u001b[0;34m\u001b[0m\u001b[0m\n\u001b[0m\u001b[1;32m     18\u001b[0m         \u001b[0;31m#if(abs(grandient) < epsilon): # 找了91次，为什么会不一样呢？\u001b[0m\u001b[0;34m\u001b[0m\u001b[0;34m\u001b[0m\u001b[0;34m\u001b[0m\u001b[0m\n\u001b[1;32m     19\u001b[0m         \u001b[0;31m#if (abs(grandient) < epsilon) and (abs(J(theta) -J(last_theta) ) < epsilon):\u001b[0m\u001b[0;34m\u001b[0m\u001b[0;34m\u001b[0m\u001b[0;34m\u001b[0m\u001b[0m\n",
      "\u001b[0;32m<ipython-input-5-f02201882fc5>\u001b[0m in \u001b[0;36mJ\u001b[0;34m(theta)\u001b[0m\n\u001b[1;32m      1\u001b[0m \u001b[0;32mdef\u001b[0m \u001b[0mJ\u001b[0m\u001b[0;34m(\u001b[0m\u001b[0mtheta\u001b[0m\u001b[0;34m)\u001b[0m\u001b[0;34m:\u001b[0m\u001b[0;34m\u001b[0m\u001b[0;34m\u001b[0m\u001b[0m\n\u001b[0;32m----> 2\u001b[0;31m     \u001b[0;32mreturn\u001b[0m \u001b[0;34m(\u001b[0m\u001b[0mtheta\u001b[0m \u001b[0;34m-\u001b[0m \u001b[0;36m2.5\u001b[0m\u001b[0;34m)\u001b[0m \u001b[0;34m**\u001b[0m \u001b[0;36m2\u001b[0m \u001b[0;34m-\u001b[0m \u001b[0;36m1\u001b[0m\u001b[0;34m\u001b[0m\u001b[0;34m\u001b[0m\u001b[0m\n\u001b[0m",
      "\u001b[0;31mOverflowError\u001b[0m: (34, 'Result too large')"
     ]
    }
   ],
   "source": [
    "eta = 1.1\n",
    "theta_history =[]\n",
    "gradient_descent(0, eta)"
   ]
  },
  {
   "cell_type": "code",
   "execution_count": 20,
   "metadata": {},
   "outputs": [
    {
     "data": {
      "text/plain": [
       "22"
      ]
     },
     "execution_count": 20,
     "metadata": {},
     "output_type": "execute_result"
    }
   ],
   "source": [
    "len(theta_history)"
   ]
  },
  {
   "cell_type": "code",
   "execution_count": null,
   "metadata": {},
   "outputs": [],
   "source": []
  }
 ],
 "metadata": {
  "kernelspec": {
   "display_name": "Python 3",
   "language": "python",
   "name": "python3"
  },
  "language_info": {
   "codemirror_mode": {
    "name": "ipython",
    "version": 3
   },
   "file_extension": ".py",
   "mimetype": "text/x-python",
   "name": "python",
   "nbconvert_exporter": "python",
   "pygments_lexer": "ipython3",
   "version": "3.7.4"
  }
 },
 "nbformat": 4,
 "nbformat_minor": 2
}
