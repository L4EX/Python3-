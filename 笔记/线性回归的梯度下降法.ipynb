{
 "cells": [
  {
   "cell_type": "markdown",
   "metadata": {},
   "source": [
    "梯度代表方向，对应J增大最快的方向"
   ]
  },
  {
   "cell_type": "code",
   "execution_count": 1,
   "metadata": {},
   "outputs": [],
   "source": [
    "import numpy as np\n",
    "import matplotlib.pyplot as plt"
   ]
  },
  {
   "cell_type": "code",
   "execution_count": 2,
   "metadata": {},
   "outputs": [],
   "source": [
    "np.random.seed(666)\n",
    "x = 2 * np.random.random(size = 100)\n",
    "y = x * 3. + 4. + np.random.normal(size = 100)"
   ]
  },
  {
   "cell_type": "code",
   "execution_count": 3,
   "metadata": {},
   "outputs": [
    {
     "data": {
      "text/plain": [
       "array([1.40087424, 1.68837329, 1.35302867, 1.45571611, 1.90291591,\n",
       "       0.02540639, 0.8271754 , 0.09762559, 0.19985712, 1.01613261,\n",
       "       0.40049508, 1.48830834, 0.38578401, 1.4016895 , 0.58645621,\n",
       "       1.54895891, 0.01021768, 0.22571531, 0.22190734, 0.49533646,\n",
       "       0.0464726 , 1.45464231, 0.68006988, 0.39500631, 1.81835919,\n",
       "       1.95669397, 1.06560509, 0.5182637 , 1.16762524, 0.65138131,\n",
       "       1.77779863, 1.25280905, 1.63774738, 1.09469084, 0.83342401,\n",
       "       1.48609438, 0.73919276, 0.15033309, 1.55038596, 0.43881849,\n",
       "       0.15868425, 0.97356104, 0.3073478 , 1.65693027, 0.38273714,\n",
       "       0.54081791, 1.12206884, 1.80476078, 1.70357668, 0.83616392,\n",
       "       0.78695254, 0.03244103, 0.59842674, 0.70755644, 1.78700533,\n",
       "       1.57227314, 1.54277385, 0.84010971, 1.55205028, 0.92861629,\n",
       "       0.36354033, 1.76805121, 1.43758454, 1.3437626 , 0.51312727,\n",
       "       0.86160364, 0.03290715, 0.46998765, 1.02234262, 0.58401848,\n",
       "       1.00378702, 0.99654626, 0.20754305, 0.89288623, 1.93837834,\n",
       "       1.47694224, 1.43910122, 1.78608677, 1.92534936, 0.39410046,\n",
       "       1.42917993, 0.32384788, 1.73250954, 1.24764049, 1.91891025,\n",
       "       1.04828408, 0.07286576, 1.45374316, 0.00781969, 0.100588  ,\n",
       "       1.98398463, 0.424515  , 1.89474133, 0.9030811 , 1.99758935,\n",
       "       1.29500298, 1.40448142, 0.85916353, 0.33554952, 0.23626619])"
      ]
     },
     "execution_count": 3,
     "metadata": {},
     "output_type": "execute_result"
    }
   ],
   "source": [
    "x"
   ]
  },
  {
   "cell_type": "code",
   "execution_count": 4,
   "metadata": {},
   "outputs": [],
   "source": [
    "X = x.reshape(-1, 1)"
   ]
  },
  {
   "cell_type": "code",
   "execution_count": 5,
   "metadata": {},
   "outputs": [
    {
     "data": {
      "text/plain": [
       "array([[1.40087424],\n",
       "       [1.68837329],\n",
       "       [1.35302867],\n",
       "       [1.45571611],\n",
       "       [1.90291591],\n",
       "       [0.02540639],\n",
       "       [0.8271754 ],\n",
       "       [0.09762559],\n",
       "       [0.19985712],\n",
       "       [1.01613261],\n",
       "       [0.40049508],\n",
       "       [1.48830834],\n",
       "       [0.38578401],\n",
       "       [1.4016895 ],\n",
       "       [0.58645621],\n",
       "       [1.54895891],\n",
       "       [0.01021768],\n",
       "       [0.22571531],\n",
       "       [0.22190734],\n",
       "       [0.49533646],\n",
       "       [0.0464726 ],\n",
       "       [1.45464231],\n",
       "       [0.68006988],\n",
       "       [0.39500631],\n",
       "       [1.81835919],\n",
       "       [1.95669397],\n",
       "       [1.06560509],\n",
       "       [0.5182637 ],\n",
       "       [1.16762524],\n",
       "       [0.65138131],\n",
       "       [1.77779863],\n",
       "       [1.25280905],\n",
       "       [1.63774738],\n",
       "       [1.09469084],\n",
       "       [0.83342401],\n",
       "       [1.48609438],\n",
       "       [0.73919276],\n",
       "       [0.15033309],\n",
       "       [1.55038596],\n",
       "       [0.43881849],\n",
       "       [0.15868425],\n",
       "       [0.97356104],\n",
       "       [0.3073478 ],\n",
       "       [1.65693027],\n",
       "       [0.38273714],\n",
       "       [0.54081791],\n",
       "       [1.12206884],\n",
       "       [1.80476078],\n",
       "       [1.70357668],\n",
       "       [0.83616392],\n",
       "       [0.78695254],\n",
       "       [0.03244103],\n",
       "       [0.59842674],\n",
       "       [0.70755644],\n",
       "       [1.78700533],\n",
       "       [1.57227314],\n",
       "       [1.54277385],\n",
       "       [0.84010971],\n",
       "       [1.55205028],\n",
       "       [0.92861629],\n",
       "       [0.36354033],\n",
       "       [1.76805121],\n",
       "       [1.43758454],\n",
       "       [1.3437626 ],\n",
       "       [0.51312727],\n",
       "       [0.86160364],\n",
       "       [0.03290715],\n",
       "       [0.46998765],\n",
       "       [1.02234262],\n",
       "       [0.58401848],\n",
       "       [1.00378702],\n",
       "       [0.99654626],\n",
       "       [0.20754305],\n",
       "       [0.89288623],\n",
       "       [1.93837834],\n",
       "       [1.47694224],\n",
       "       [1.43910122],\n",
       "       [1.78608677],\n",
       "       [1.92534936],\n",
       "       [0.39410046],\n",
       "       [1.42917993],\n",
       "       [0.32384788],\n",
       "       [1.73250954],\n",
       "       [1.24764049],\n",
       "       [1.91891025],\n",
       "       [1.04828408],\n",
       "       [0.07286576],\n",
       "       [1.45374316],\n",
       "       [0.00781969],\n",
       "       [0.100588  ],\n",
       "       [1.98398463],\n",
       "       [0.424515  ],\n",
       "       [1.89474133],\n",
       "       [0.9030811 ],\n",
       "       [1.99758935],\n",
       "       [1.29500298],\n",
       "       [1.40448142],\n",
       "       [0.85916353],\n",
       "       [0.33554952],\n",
       "       [0.23626619]])"
      ]
     },
     "execution_count": 5,
     "metadata": {},
     "output_type": "execute_result"
    }
   ],
   "source": [
    "X"
   ]
  },
  {
   "cell_type": "code",
   "execution_count": 6,
   "metadata": {},
   "outputs": [
    {
     "data": {
      "text/plain": [
       "<matplotlib.collections.PathCollection at 0x11d841f10>"
      ]
     },
     "execution_count": 6,
     "metadata": {},
     "output_type": "execute_result"
    },
    {
     "data": {
      "image/png": "[encoded data removed]",
      "text/plain": [
       "<Figure size 432x288 with 1 Axes>"
      ]
     },
     "metadata": {
      "needs_background": "light"
     },
     "output_type": "display_data"
    }
   ],
   "source": [
    "plt.scatter(x,y)"
   ]
  },
  {
   "cell_type": "markdown",
   "metadata": {},
   "source": [
    "### 使用梯度下降法训练\n",
    "目标：使$\\dfrac {1}{m}\\sum ^{m}_{i=1}\\left( y^{(i)}-\\widehat {y}^{(i)}\\right) ^{2}$\n",
    "尽可能小  \n",
    "$J\\left( \\theta \\right) = MSE(y, \\widehat {y})  \\ \\  \\ \\ \\ \\ \\  \\ \\nabla J\\left( \\theta \\right) =\\begin{bmatrix} \\dfrac {\\partial J}{\\partial \\theta_{0} }\\cdot \\\\ \\dfrac {\\partial J}{\\partial \\theta _{1}} \\\\  \\dfrac {\\partial J}{\\partial \\theta _{2}} \\\\ ... \\\\ \\dfrac {\\partial J}{\\partial \\theta _{n}} \\end{bmatrix} = \\dfrac {2}{m} · \\begin{bmatrix} \\sum ^{m}_{i=1}\\left( x^{(i)}_b\\theta -y^{(i)}\\right) \\\\  \\sum ^{m}_{i=1}\\left( x^{(i)}_b\\theta -y^{(i)}\\right)·x^{(i)}_1 \\\\  \\sum ^{m}_{i=1}\\left( x^{(i)}_b\\theta -y^{(i)}\\right)·x^{(i)}_2 \\\\ ... \\\\  \\sum ^{m}_{i=1}\\left( x^{(i)}_b\\theta -y^{(i)}\\right)·x^{(i)}_n \\end{bmatrix}$  \n",
    "有个重复的地方，可以保存起来，避免多次计算。"
   ]
  },
  {
   "cell_type": "code",
   "execution_count": 7,
   "metadata": {},
   "outputs": [],
   "source": [
    "def J(theta, X_b, y):\n",
    "    try:\n",
    "        return np.sum((y - x_b.dot(theta)) ** 2) / len(X_b)\n",
    "    except:\n",
    "        return float('inf')"
   ]
  },
  {
   "cell_type": "code",
   "execution_count": 8,
   "metadata": {},
   "outputs": [],
   "source": [
    "# 这里涉及到公式的编程实现，使用了dot()函数和sum()函数\n",
    "def dJ(theta, X_b, y):\n",
    "    # 提前开辟出res向量的空间，在for循环里，可以直接写res[i]\n",
    "    res = np.empty(len(theta))\n",
    "    res[0] = np.sum(X_b.dot(theta) - y)\n",
    "    for i in range(1, len(theta)):\n",
    "        res[i] = (X_b.dot(theta) - y).dot(X_b[:, i])\n",
    "    return res * 2 / len(y)"
   ]
  },
  {
   "cell_type": "code",
   "execution_count": 9,
   "metadata": {},
   "outputs": [],
   "source": [
    "#  加入了迭代次数之后的改进\n",
    "def gradient_descent(X_b, y, initial_theta, eta, n_iters = 1e4, epsilon = 1e-8):\n",
    "    theta = initial_theta\n",
    "    i_iter = 0\n",
    "         \n",
    "    while i_iter < n_iters :\n",
    "        gradient = dJ(theta, X_b, y)\n",
    "        last_theta = theta\n",
    "        theta = theta - eta * gradient\n",
    "        # 理论上导数为0的时候，就找到了极值点，但是实际使用中有可能一直找不到整整为0的点，而只能达到很接近0的一个范围\n",
    "        # 对浮点数进行 ==0 是很危险的，计算机处理浮点数是有误差的，可能永远都达不到想要的精度\n",
    "    \n",
    "\n",
    "        # 两种思路解决，一种是前后的函数值差小于一个极小值，一种是梯度小于一个极小值，其实意义一样\n",
    "        if(abs(J(theta, X_b, y) -J(last_theta, X_b, y) ) < epsilon):  # 找了45次  \n",
    "        #if(abs(grandient) < epsilon): # 找了91次，为什么会不一样呢？\n",
    "        #if (abs(grandient) < epsilon) and (abs(J(theta) -J(last_theta) ) < epsilon):\n",
    "            break        \n",
    "        \n",
    "        i_iter += 1\n",
    "    return theta"
   ]
  },
  {
   "cell_type": "code",
   "execution_count": 10,
   "metadata": {},
   "outputs": [],
   "source": [
    "X_b = np.hstack([np.ones((len(X),1)), X])\n",
    "initial_theta = np.zeros(X_b.shape[1])"
   ]
  },
  {
   "cell_type": "code",
   "execution_count": 11,
   "metadata": {},
   "outputs": [],
   "source": [
    "eta = 0.01"
   ]
  },
  {
   "cell_type": "code",
   "execution_count": 12,
   "metadata": {},
   "outputs": [],
   "source": [
    "epsilon = 1e-8"
   ]
  },
  {
   "cell_type": "code",
   "execution_count": 13,
   "metadata": {},
   "outputs": [
    {
     "data": {
      "text/plain": [
       "array([4.02369667, 3.00517447])"
      ]
     },
     "execution_count": 13,
     "metadata": {},
     "output_type": "execute_result"
    }
   ],
   "source": [
    "gradient_descent(X_b, y, initial_theta, eta)"
   ]
  },
  {
   "cell_type": "markdown",
   "metadata": {},
   "source": [
    "### 测试封装好的线性回归算法"
   ]
  },
  {
   "cell_type": "code",
   "execution_count": 14,
   "metadata": {},
   "outputs": [
    {
     "data": {
      "text/plain": [
       "LinearRegression()"
      ]
     },
     "execution_count": 14,
     "metadata": {},
     "output_type": "execute_result"
    }
   ],
   "source": [
    "from playML.LinearRegression import LinearRegression\n",
    "\n",
    "lin_reg = LinearRegression()\n",
    "lin_reg.fit_gd(X,y)"
   ]
  },
  {
   "cell_type": "code",
   "execution_count": 15,
   "metadata": {},
   "outputs": [
    {
     "data": {
      "text/plain": [
       "array([3.00706277])"
      ]
     },
     "execution_count": 15,
     "metadata": {},
     "output_type": "execute_result"
    }
   ],
   "source": [
    "lin_reg.coef_"
   ]
  },
  {
   "cell_type": "code",
   "execution_count": null,
   "metadata": {},
   "outputs": [],
   "source": []
  }
 ],
 "metadata": {
  "kernelspec": {
   "display_name": "Python 3",
   "language": "python",
   "name": "python3"
  },
  "language_info": {
   "codemirror_mode": {
    "name": "ipython",
    "version": 3
   },
   "file_extension": ".py",
   "mimetype": "text/x-python",
   "name": "python",
   "nbconvert_exporter": "python",
   "pygments_lexer": "ipython3",
   "version": "3.7.4"
  }
 },
 "nbformat": 4,
 "nbformat_minor": 2
}
