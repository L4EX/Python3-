{
 "cells": [
  {
   "cell_type": "markdown",
   "metadata": {},
   "source": [
    "$r^2 = 1- \\dfrac{\\sum_i \\left( \\widehat{y}^{(i)} - y^{(i)}\\right)^2}{\\sum_i \\left( \\overline {y}^{(i)} - y^{(i)}\\right)^2}$"
   ]
  },
  {
   "cell_type": "markdown",
   "metadata": {},
   "source": [
    "$\\sum_i \\left( \\widehat{y}^{(i)} - y^{(i)}\\right)^2$  \n",
    "表示使用自己的模型预测产生的错误"
   ]
  },
  {
   "cell_type": "markdown",
   "metadata": {},
   "source": [
    "$\\sum_i \\left( \\overline {y}^{(i)} - y^{(i)}\\right)^2$  \n",
    "使用$y = \\overline {y}$预测产生的错误，这个模型预测和x无关，所以的x都预测为$\\overline {y}$，这个模型也可以称之为Baseline Model"
   ]
  },
  {
   "cell_type": "markdown",
   "metadata": {},
   "source": [
    "综上，这个模型描述的是，基于baseline会产生很多的错误，而自己的模型假定就是比baseline好。二者的商表示的是  \n",
    "自己的方法的误差占baseline误差的百分比，这个百分比越小，说明自己的效果越好。之后用1减去，就变成一个结果越  \n",
    "大表示效果越好的指标了。"
   ]
  },
  {
   "cell_type": "markdown",
   "metadata": {},
   "source": [
    "如果$r^2<0$，说明学习到的模型还不如基准模型，此时，很有可能说明数据不存在任何线性关系。这个回归问题不能  \n",
    "用线性回归了  \n",
    "注意当前讨论的简单线性回归。"
   ]
  },
  {
   "cell_type": "markdown",
   "metadata": {},
   "source": [
    "进一步:  \n",
    "\\begin{align*}\n",
    "r^2&=1- \\dfrac{\\sum_i \\left( \\widehat{y}^{(i)} - y^{(i)}\\right)^2}{\\sum_i \\left( \\overline {y}^{(i)} - y^{(i)}\\right)^2}\\\\\n",
    "    &= 1- \\dfrac{(\\sum_i \\left( \\widehat{y}^{(i)} - y^{(i)}\\right)^2)/m}{(\\sum_i \\left( \\overline {y}^{(i)} - y^{(i)}\\right)^2)/m}\\\\\n",
    "    &=1- \\dfrac{MSE(\\widehat{y},y)}{Var(y)}\n",
    "\\end{align*}\n"
   ]
  },
  {
   "cell_type": "markdown",
   "metadata": {},
   "source": [
    "计算起来会更加容易"
   ]
  },
  {
   "cell_type": "markdown",
   "metadata": {},
   "source": [
    "这个指标描述的是基于基准模型的效果"
   ]
  },
  {
   "cell_type": "code",
   "execution_count": 3,
   "metadata": {},
   "outputs": [],
   "source": [
    "from playML.metrics import r2_score"
   ]
  },
  {
   "cell_type": "code",
   "execution_count": 4,
   "metadata": {},
   "outputs": [],
   "source": [
    "from sklearn.metrics import r2_score"
   ]
  },
  {
   "cell_type": "code",
   "execution_count": null,
   "metadata": {},
   "outputs": [],
   "source": []
  }
 ],
 "metadata": {
  "kernelspec": {
   "display_name": "Python 3",
   "language": "python",
   "name": "python3"
  },
  "language_info": {
   "codemirror_mode": {
    "name": "ipython",
    "version": 3
   },
   "file_extension": ".py",
   "mimetype": "text/x-python",
   "name": "python",
   "nbconvert_exporter": "python",
   "pygments_lexer": "ipython3",
   "version": "3.7.4"
  }
 },
 "nbformat": 4,
 "nbformat_minor": 2
}
